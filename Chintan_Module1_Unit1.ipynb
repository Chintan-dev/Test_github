{
 "cells": [
  {
   "cell_type": "code",
   "execution_count": null,
   "id": "46e2e1f5",
   "metadata": {},
   "outputs": [],
   "source": [
    "a=1\n",
    "b=1\n",
    "c=1\n",
    "a+b+c"
   ]
  },
  {
   "cell_type": "code",
   "execution_count": null,
   "id": "5d007791",
   "metadata": {},
   "outputs": [],
   "source": [
    "a 1=1"
   ]
  },
  {
   "cell_type": "code",
   "execution_count": null,
   "id": "473b17fb",
   "metadata": {},
   "outputs": [],
   "source": [
    "a_1=1"
   ]
  },
  {
   "cell_type": "code",
   "execution_count": null,
   "id": "536eafca",
   "metadata": {},
   "outputs": [],
   "source": [
    "_a1=1"
   ]
  },
  {
   "cell_type": "code",
   "execution_count": null,
   "id": "63b45bbc",
   "metadata": {},
   "outputs": [],
   "source": [
    "__a=1"
   ]
  },
  {
   "cell_type": "code",
   "execution_count": null,
   "id": "ffa7e4c6",
   "metadata": {},
   "outputs": [],
   "source": [
    "a@gmail.com=1"
   ]
  },
  {
   "cell_type": "code",
   "execution_count": null,
   "id": "5ccbb708",
   "metadata": {},
   "outputs": [],
   "source": [
    "if=2"
   ]
  },
  {
   "cell_type": "code",
   "execution_count": null,
   "id": "a7ae3d6b",
   "metadata": {},
   "outputs": [],
   "source": [
    "type=1"
   ]
  },
  {
   "cell_type": "code",
   "execution_count": null,
   "id": "30687d2b",
   "metadata": {},
   "outputs": [],
   "source": [
    "a"
   ]
  },
  {
   "cell_type": "code",
   "execution_count": null,
   "id": "2fa100d7",
   "metadata": {},
   "outputs": [],
   "source": [
    "a=1\n",
    "type(a)"
   ]
  },
  {
   "cell_type": "code",
   "execution_count": null,
   "id": "da039ff1",
   "metadata": {},
   "outputs": [],
   "source": [
    "count=100\n",
    "kilometers=1000.0\n",
    "name=\"Rahul\""
   ]
  },
  {
   "cell_type": "code",
   "execution_count": null,
   "id": "815b257c",
   "metadata": {},
   "outputs": [],
   "source": [
    "print(count,kilometers,name)"
   ]
  },
  {
   "cell_type": "code",
   "execution_count": null,
   "id": "0e44784f",
   "metadata": {},
   "outputs": [],
   "source": [
    "a,b,c=1,2,\"Diwakar\"\n",
    "print(a,b,c)"
   ]
  },
  {
   "cell_type": "code",
   "execution_count": null,
   "id": "5c53aa40",
   "metadata": {},
   "outputs": [],
   "source": [
    "a=b=c=1\n",
    "print(a,b,c)"
   ]
  },
  {
   "cell_type": "code",
   "execution_count": null,
   "id": "43d3e57d",
   "metadata": {},
   "outputs": [],
   "source": [
    "print(id(a))\n",
    "print(id(b))\n",
    "print(id(c))"
   ]
  },
  {
   "cell_type": "code",
   "execution_count": null,
   "id": "9af6a52f",
   "metadata": {},
   "outputs": [],
   "source": [
    "a=1\n",
    "b=1\n",
    "c=1\n",
    "print(id(a))\n",
    "print(id(b))\n",
    "print(id(c))"
   ]
  },
  {
   "cell_type": "code",
   "execution_count": null,
   "id": "fbd59cf5",
   "metadata": {},
   "outputs": [],
   "source": [
    "a"
   ]
  },
  {
   "cell_type": "code",
   "execution_count": null,
   "id": "4a0c7a24",
   "metadata": {},
   "outputs": [],
   "source": [
    "del a"
   ]
  },
  {
   "cell_type": "code",
   "execution_count": null,
   "id": "00bdcc11",
   "metadata": {
    "scrolled": true
   },
   "outputs": [],
   "source": [
    "a"
   ]
  },
  {
   "cell_type": "code",
   "execution_count": null,
   "id": "190de5be",
   "metadata": {},
   "outputs": [],
   "source": [
    "b=3.13j\n",
    "type(b)"
   ]
  },
  {
   "cell_type": "code",
   "execution_count": null,
   "id": "d2a6a872",
   "metadata": {},
   "outputs": [],
   "source": [
    "str1=\"python is our language\"\n",
    "print(str1)"
   ]
  },
  {
   "cell_type": "code",
   "execution_count": null,
   "id": "1a9d5177",
   "metadata": {},
   "outputs": [],
   "source": [
    "a=1\n",
    "a*2"
   ]
  },
  {
   "cell_type": "code",
   "execution_count": null,
   "id": "e4ab6d4a",
   "metadata": {},
   "outputs": [],
   "source": [
    "str1=\"Python is a programming language\"\n",
    "print(str1*2)"
   ]
  },
  {
   "cell_type": "code",
   "execution_count": null,
   "id": "2b263eb9",
   "metadata": {},
   "outputs": [],
   "source": [
    "str2=\"hi\"\n",
    "print(str1+str2)"
   ]
  },
  {
   "cell_type": "code",
   "execution_count": null,
   "id": "67918766",
   "metadata": {},
   "outputs": [],
   "source": [
    "str2=\"hi\"\n",
    "print(str1*str2)"
   ]
  },
  {
   "cell_type": "code",
   "execution_count": null,
   "id": "461dd702",
   "metadata": {},
   "outputs": [],
   "source": [
    "a=2\n",
    "id(a)"
   ]
  },
  {
   "cell_type": "code",
   "execution_count": null,
   "id": "c29ad75a",
   "metadata": {},
   "outputs": [],
   "source": [
    "str1=\"Python is a Programming Language\"\n",
    "print(str1)"
   ]
  },
  {
   "cell_type": "code",
   "execution_count": null,
   "id": "6a187ba9",
   "metadata": {},
   "outputs": [],
   "source": [
    "print(str1[0])"
   ]
  },
  {
   "cell_type": "code",
   "execution_count": null,
   "id": "eb8faa42",
   "metadata": {},
   "outputs": [],
   "source": [
    "print(str1[2:10])"
   ]
  },
  {
   "cell_type": "code",
   "execution_count": null,
   "id": "c1626640",
   "metadata": {},
   "outputs": [],
   "source": [
    "print(str1[6:18])"
   ]
  },
  {
   "cell_type": "code",
   "execution_count": null,
   "id": "a0ad20a4",
   "metadata": {},
   "outputs": [],
   "source": [
    "print(str1[12:23])"
   ]
  },
  {
   "cell_type": "code",
   "execution_count": null,
   "id": "8cb15a92",
   "metadata": {},
   "outputs": [],
   "source": [
    "str1.split()"
   ]
  },
  {
   "cell_type": "code",
   "execution_count": null,
   "id": "88af62cb",
   "metadata": {},
   "outputs": [],
   "source": [
    "str1=\"{1} {0} {2}\".format(\"I\",\"am\",\"Good\")\n",
    "str1"
   ]
  },
  {
   "cell_type": "code",
   "execution_count": null,
   "id": "9b376f40",
   "metadata": {},
   "outputs": [],
   "source": [
    "str1=\"{a} {k} {l}\".format(a='PythoN',k='PRgrammiNG',l='Language')\n",
    "print(str1)"
   ]
  },
  {
   "cell_type": "code",
   "execution_count": null,
   "id": "163099bf",
   "metadata": {},
   "outputs": [],
   "source": [
    "str1.capitalize()"
   ]
  },
  {
   "cell_type": "code",
   "execution_count": null,
   "id": "68ce0f8b",
   "metadata": {},
   "outputs": [],
   "source": [
    "L=[1,2,3,\"abes\",12.5]\n",
    "L"
   ]
  },
  {
   "cell_type": "code",
   "execution_count": null,
   "id": "74919823",
   "metadata": {},
   "outputs": [],
   "source": [
    "L[0:3]"
   ]
  },
  {
   "cell_type": "code",
   "execution_count": null,
   "id": "17e45e2a",
   "metadata": {},
   "outputs": [],
   "source": [
    "L[3][2]"
   ]
  },
  {
   "cell_type": "markdown",
   "id": "4469b613",
   "metadata": {},
   "source": [
    "# List"
   ]
  },
  {
   "cell_type": "code",
   "execution_count": null,
   "id": "b384c3a1",
   "metadata": {},
   "outputs": [],
   "source": [
    "ks=[1,2,3]\n",
    "ks+ks"
   ]
  },
  {
   "cell_type": "code",
   "execution_count": null,
   "id": "976f6adc",
   "metadata": {},
   "outputs": [],
   "source": [
    "ls=[7,8,9]\n",
    "ks+ls"
   ]
  },
  {
   "cell_type": "code",
   "execution_count": null,
   "id": "f7e2f26e",
   "metadata": {},
   "outputs": [],
   "source": [
    "ls*4"
   ]
  },
  {
   "cell_type": "code",
   "execution_count": null,
   "id": "e3204ec7",
   "metadata": {},
   "outputs": [],
   "source": [
    "a=\" chintan \"\n",
    "b=\" patel\"\n",
    "print(a+b)"
   ]
  },
  {
   "cell_type": "code",
   "execution_count": null,
   "id": "f051dddd",
   "metadata": {},
   "outputs": [],
   "source": [
    "L"
   ]
  },
  {
   "cell_type": "code",
   "execution_count": null,
   "id": "15461922",
   "metadata": {},
   "outputs": [],
   "source": [
    "L[0]=66\n",
    "L"
   ]
  },
  {
   "cell_type": "code",
   "execution_count": null,
   "id": "b20784d0",
   "metadata": {},
   "outputs": [],
   "source": [
    "id(L)"
   ]
  },
  {
   "cell_type": "code",
   "execution_count": null,
   "id": "1c979b99",
   "metadata": {},
   "outputs": [],
   "source": [
    "L[0]=10\n",
    "id(L)"
   ]
  },
  {
   "cell_type": "code",
   "execution_count": null,
   "id": "745cd42a",
   "metadata": {},
   "outputs": [],
   "source": [
    "L2=\"Diwakar\"\n",
    "print(id(L2))"
   ]
  },
  {
   "cell_type": "code",
   "execution_count": null,
   "id": "7093da2c",
   "metadata": {},
   "outputs": [],
   "source": [
    "L2[0]=\"G\""
   ]
  },
  {
   "cell_type": "code",
   "execution_count": null,
   "id": "3e92d091",
   "metadata": {},
   "outputs": [],
   "source": [
    "L2=\"G\"+L2[1:]\n",
    "L2"
   ]
  },
  {
   "cell_type": "code",
   "execution_count": null,
   "id": "48066771",
   "metadata": {},
   "outputs": [],
   "source": [
    "id(L2)"
   ]
  },
  {
   "cell_type": "code",
   "execution_count": null,
   "id": "f31b2d0c",
   "metadata": {},
   "outputs": [],
   "source": [
    "a=input(\"Enter your Name\")"
   ]
  },
  {
   "cell_type": "code",
   "execution_count": null,
   "id": "c692d8c6",
   "metadata": {},
   "outputs": [],
   "source": [
    "type(a)"
   ]
  },
  {
   "cell_type": "code",
   "execution_count": null,
   "id": "b499ac4c",
   "metadata": {},
   "outputs": [],
   "source": [
    "a=input(\"Enter your Age\")"
   ]
  },
  {
   "cell_type": "code",
   "execution_count": null,
   "id": "07fc0998",
   "metadata": {},
   "outputs": [],
   "source": [
    "type(a)"
   ]
  },
  {
   "cell_type": "code",
   "execution_count": null,
   "id": "ca562749",
   "metadata": {},
   "outputs": [],
   "source": [
    "a=int(input(\"Enter your age\"))\n",
    "print(a*2)"
   ]
  },
  {
   "cell_type": "code",
   "execution_count": null,
   "id": "e2d85a17",
   "metadata": {},
   "outputs": [],
   "source": [
    "a=input(\"Enter your Sequence\")"
   ]
  },
  {
   "cell_type": "code",
   "execution_count": null,
   "id": "aba64fbd",
   "metadata": {},
   "outputs": [],
   "source": [
    "a"
   ]
  },
  {
   "cell_type": "code",
   "execution_count": null,
   "id": "9b75ef0b",
   "metadata": {},
   "outputs": [],
   "source": [
    "type(a)"
   ]
  },
  {
   "cell_type": "code",
   "execution_count": null,
   "id": "48e36d60",
   "metadata": {},
   "outputs": [],
   "source": [
    "a.split( )"
   ]
  },
  {
   "cell_type": "markdown",
   "id": "50e37688",
   "metadata": {},
   "source": [
    "# Tuple"
   ]
  },
  {
   "cell_type": "code",
   "execution_count": null,
   "id": "cee91ae3",
   "metadata": {},
   "outputs": [],
   "source": [
    "tuple1=('abcd',547,'john',2.23,70.2)\n",
    "tuple2=('Ram',321)"
   ]
  },
  {
   "cell_type": "code",
   "execution_count": null,
   "id": "d8e7b18f",
   "metadata": {},
   "outputs": [],
   "source": [
    "print(tuple1)"
   ]
  },
  {
   "cell_type": "code",
   "execution_count": null,
   "id": "ff205c25",
   "metadata": {},
   "outputs": [],
   "source": [
    "tuple1[0]"
   ]
  },
  {
   "cell_type": "code",
   "execution_count": null,
   "id": "bca6c736",
   "metadata": {},
   "outputs": [],
   "source": [
    "tuple1[0]=\"Hi\""
   ]
  },
  {
   "cell_type": "code",
   "execution_count": null,
   "id": "e2102f33",
   "metadata": {},
   "outputs": [],
   "source": [
    "tuple1*4"
   ]
  },
  {
   "cell_type": "markdown",
   "id": "d399ca37",
   "metadata": {},
   "source": [
    "# Dictionary {keys:values}"
   ]
  },
  {
   "cell_type": "code",
   "execution_count": null,
   "id": "386bc259",
   "metadata": {},
   "outputs": [],
   "source": [
    "dict1={}\n",
    "type(dict1)"
   ]
  },
  {
   "cell_type": "code",
   "execution_count": null,
   "id": "b203a12e",
   "metadata": {},
   "outputs": [],
   "source": [
    "dict1['one'] = \"This is Python\"\n",
    "dict1[2]     = \"This is Java\""
   ]
  },
  {
   "cell_type": "code",
   "execution_count": null,
   "id": "7bee7229",
   "metadata": {},
   "outputs": [],
   "source": [
    "dict1"
   ]
  },
  {
   "cell_type": "code",
   "execution_count": null,
   "id": "dab6012a",
   "metadata": {},
   "outputs": [],
   "source": [
    "dict1[2]"
   ]
  },
  {
   "cell_type": "code",
   "execution_count": null,
   "id": "c4958547",
   "metadata": {},
   "outputs": [],
   "source": [
    "dict1['one']"
   ]
  },
  {
   "cell_type": "code",
   "execution_count": null,
   "id": "e0ea5564",
   "metadata": {},
   "outputs": [],
   "source": [
    "dict1[3]"
   ]
  },
  {
   "cell_type": "code",
   "execution_count": null,
   "id": "22190b0e",
   "metadata": {},
   "outputs": [],
   "source": [
    "dict2={'name':'Rohit','id':1234,'dept':'Technical'}"
   ]
  },
  {
   "cell_type": "code",
   "execution_count": null,
   "id": "a467a7a0",
   "metadata": {},
   "outputs": [],
   "source": [
    "dict2['name']"
   ]
  },
  {
   "cell_type": "code",
   "execution_count": null,
   "id": "c35ef450",
   "metadata": {},
   "outputs": [],
   "source": [
    "print(dict2.keys())"
   ]
  },
  {
   "cell_type": "code",
   "execution_count": null,
   "id": "1f49e82e",
   "metadata": {},
   "outputs": [],
   "source": [
    "print(dict2.values())"
   ]
  },
  {
   "cell_type": "markdown",
   "id": "8176788d",
   "metadata": {},
   "source": [
    "# Loops\n"
   ]
  },
  {
   "cell_type": "code",
   "execution_count": null,
   "id": "dfa934c2",
   "metadata": {},
   "outputs": [],
   "source": [
    "count=0\n",
    "while(count<10):\n",
    "    print(count)\n",
    "    count=count+1"
   ]
  },
  {
   "cell_type": "code",
   "execution_count": null,
   "id": "8222ed38",
   "metadata": {},
   "outputs": [],
   "source": [
    "count=0\n",
    "while (count<5):\n",
    "    print(count,\"is less than 5\")\n",
    "    count = count+1\n",
    "else:\n",
    "    print(count,\"is not less than 5\")"
   ]
  },
  {
   "cell_type": "code",
   "execution_count": null,
   "id": "d2888f72",
   "metadata": {},
   "outputs": [],
   "source": [
    "a=[1,2,34,56,78]\n",
    "for i in a:\n",
    "    print(i)"
   ]
  },
  {
   "cell_type": "code",
   "execution_count": null,
   "id": "2f661801",
   "metadata": {},
   "outputs": [],
   "source": [
    "a=input(\"Enter your Name\")"
   ]
  },
  {
   "cell_type": "code",
   "execution_count": null,
   "id": "42577386",
   "metadata": {},
   "outputs": [],
   "source": [
    "a[0]"
   ]
  },
  {
   "cell_type": "code",
   "execution_count": null,
   "id": "2f19232f",
   "metadata": {},
   "outputs": [],
   "source": [
    "total=0\n",
    "for i in a:\n",
    "    print(i)\n",
    "    total=total+1\n",
    "    \n",
    "print(total)"
   ]
  },
  {
   "cell_type": "markdown",
   "id": "fcd91647",
   "metadata": {},
   "source": [
    "# Numpy"
   ]
  },
  {
   "cell_type": "code",
   "execution_count": null,
   "id": "9c071657",
   "metadata": {},
   "outputs": [],
   "source": [
    "a=[2,3]"
   ]
  },
  {
   "cell_type": "code",
   "execution_count": null,
   "id": "ff0a289a",
   "metadata": {},
   "outputs": [],
   "source": [
    "a*2"
   ]
  },
  {
   "cell_type": "code",
   "execution_count": 1,
   "id": "898d680f",
   "metadata": {},
   "outputs": [],
   "source": [
    "import numpy"
   ]
  },
  {
   "cell_type": "code",
   "execution_count": 2,
   "id": "cbd2a500",
   "metadata": {},
   "outputs": [],
   "source": [
    "import numpy as np"
   ]
  },
  {
   "cell_type": "code",
   "execution_count": 3,
   "id": "aaab782e",
   "metadata": {},
   "outputs": [
    {
     "name": "stdout",
     "output_type": "stream",
     "text": [
      "Requirement already satisfied: numpy in c:\\users\\chintan_patel\\anaconda3\\lib\\site-packages (1.21.5)\n"
     ]
    }
   ],
   "source": [
    "!pip install numpy"
   ]
  },
  {
   "cell_type": "code",
   "execution_count": 4,
   "id": "d94f3572",
   "metadata": {},
   "outputs": [
    {
     "ename": "NameError",
     "evalue": "name 'a' is not defined",
     "output_type": "error",
     "traceback": [
      "\u001b[1;31m---------------------------------------------------------------------------\u001b[0m",
      "\u001b[1;31mNameError\u001b[0m                                 Traceback (most recent call last)",
      "Input \u001b[1;32mIn [4]\u001b[0m, in \u001b[0;36m<cell line: 1>\u001b[1;34m()\u001b[0m\n\u001b[1;32m----> 1\u001b[0m a_n\u001b[38;5;241m=\u001b[39mnp\u001b[38;5;241m.\u001b[39marray(\u001b[43ma\u001b[49m)\n",
      "\u001b[1;31mNameError\u001b[0m: name 'a' is not defined"
     ]
    }
   ],
   "source": [
    "a_n=np.array(a)"
   ]
  },
  {
   "cell_type": "code",
   "execution_count": null,
   "id": "5b88e3ce",
   "metadata": {},
   "outputs": [],
   "source": [
    "a_n"
   ]
  },
  {
   "cell_type": "code",
   "execution_count": null,
   "id": "14870f3a",
   "metadata": {},
   "outputs": [],
   "source": [
    "a_n*2"
   ]
  },
  {
   "cell_type": "code",
   "execution_count": null,
   "id": "4b18c183",
   "metadata": {},
   "outputs": [],
   "source": [
    "marks=[66,88,77,11,33,22,44,55,99,7]\n",
    "marks=np.array(marks)"
   ]
  },
  {
   "cell_type": "code",
   "execution_count": null,
   "id": "d729be76",
   "metadata": {},
   "outputs": [],
   "source": [
    "np.mean(marks)"
   ]
  },
  {
   "cell_type": "code",
   "execution_count": null,
   "id": "bc23eb74",
   "metadata": {},
   "outputs": [],
   "source": [
    "np.amin(marks)"
   ]
  },
  {
   "cell_type": "code",
   "execution_count": null,
   "id": "e21cf91c",
   "metadata": {},
   "outputs": [],
   "source": [
    "np.amax(marks)"
   ]
  },
  {
   "cell_type": "code",
   "execution_count": null,
   "id": "79bae9bc",
   "metadata": {},
   "outputs": [],
   "source": [
    "np.median(marks)"
   ]
  },
  {
   "cell_type": "code",
   "execution_count": null,
   "id": "92cfe271",
   "metadata": {},
   "outputs": [],
   "source": [
    "np.ptp(marks)"
   ]
  },
  {
   "cell_type": "code",
   "execution_count": null,
   "id": "8437b741",
   "metadata": {},
   "outputs": [],
   "source": [
    "np.std(marks)"
   ]
  },
  {
   "cell_type": "code",
   "execution_count": null,
   "id": "97c082fa",
   "metadata": {},
   "outputs": [],
   "source": [
    "np.var(marks)"
   ]
  },
  {
   "cell_type": "code",
   "execution_count": null,
   "id": "9b103605",
   "metadata": {},
   "outputs": [],
   "source": [
    "x=[34,45,67,78]\n",
    "x_n=np.array(x)\n",
    "print(np.std(x_n))"
   ]
  },
  {
   "cell_type": "code",
   "execution_count": 5,
   "id": "1ba4511c",
   "metadata": {},
   "outputs": [
    {
     "ename": "NameError",
     "evalue": "name 'x_n' is not defined",
     "output_type": "error",
     "traceback": [
      "\u001b[1;31m---------------------------------------------------------------------------\u001b[0m",
      "\u001b[1;31mNameError\u001b[0m                                 Traceback (most recent call last)",
      "Input \u001b[1;32mIn [5]\u001b[0m, in \u001b[0;36m<cell line: 1>\u001b[1;34m()\u001b[0m\n\u001b[1;32m----> 1\u001b[0m ss\u001b[38;5;241m=\u001b[39mnp\u001b[38;5;241m.\u001b[39mmean((\u001b[43mx_n\u001b[49m\u001b[38;5;241m-\u001b[39mnp\u001b[38;5;241m.\u001b[39mmean(x_n))\u001b[38;5;241m*\u001b[39m\u001b[38;5;241m*\u001b[39m\u001b[38;5;241m2\u001b[39m)\n",
      "\u001b[1;31mNameError\u001b[0m: name 'x_n' is not defined"
     ]
    }
   ],
   "source": [
    "ss=np.mean((x_n-np.mean(x_n))**2)"
   ]
  },
  {
   "cell_type": "code",
   "execution_count": null,
   "id": "00af15b4",
   "metadata": {},
   "outputs": [],
   "source": [
    "ss"
   ]
  },
  {
   "cell_type": "code",
   "execution_count": null,
   "id": "6b35c0e6",
   "metadata": {},
   "outputs": [],
   "source": [
    "np.sqrt(ss)"
   ]
  },
  {
   "cell_type": "code",
   "execution_count": 9,
   "id": "194c7624",
   "metadata": {},
   "outputs": [],
   "source": [
    "from numpy import random"
   ]
  },
  {
   "cell_type": "code",
   "execution_count": 10,
   "id": "939e2797",
   "metadata": {},
   "outputs": [
    {
     "data": {
      "text/plain": [
       "0.38387701799276097"
      ]
     },
     "execution_count": 10,
     "metadata": {},
     "output_type": "execute_result"
    }
   ],
   "source": [
    "random.rand()"
   ]
  },
  {
   "cell_type": "code",
   "execution_count": 11,
   "id": "6800e01c",
   "metadata": {},
   "outputs": [
    {
     "name": "stdout",
     "output_type": "stream",
     "text": [
      "0.15416284237967237\n",
      "0.7400496965154048\n",
      "0.26331501518513467\n",
      "0.5337393933802977\n",
      "0.014574962485419674\n",
      "0.918747008099885\n",
      "0.9007148541170122\n",
      "0.03342142762634459\n",
      "0.9569493362751168\n",
      "0.13720932135607644\n"
     ]
    }
   ],
   "source": [
    "random.seed(12)\n",
    "for i in range(10):\n",
    "    print(random.rand())"
   ]
  },
  {
   "cell_type": "code",
   "execution_count": 7,
   "id": "6cdb960f",
   "metadata": {},
   "outputs": [
    {
     "name": "stdout",
     "output_type": "stream",
     "text": [
      "-3.375\n",
      "9.4375\n",
      "-22.59375\n",
      "57.484375\n",
      "-142.7109375\n",
      "357.77734375\n",
      "-893.443359375\n",
      "2234.6083984375\n",
      "-5585.52099609375\n",
      "13964.802490234375\n"
     ]
    }
   ],
   "source": [
    "x=1.75\n",
    "for i in range(10):\n",
    "    x=1+(1-3.5)*x\n",
    "    print(x)"
   ]
  },
  {
   "cell_type": "code",
   "execution_count": 12,
   "id": "3ac40c5b",
   "metadata": {},
   "outputs": [
    {
     "name": "stdout",
     "output_type": "stream",
     "text": [
      "0.15416284237967237\n",
      "0.7400496965154048\n",
      "0.26331501518513467\n",
      "0.5337393933802977\n",
      "0.014574962485419674\n",
      "0.918747008099885\n",
      "0.9007148541170122\n",
      "0.03342142762634459\n",
      "0.9569493362751168\n",
      "0.13720932135607644\n"
     ]
    }
   ],
   "source": [
    "random.seed(12)\n",
    "for i in range(10):\n",
    "    print(random.rand())"
   ]
  },
  {
   "cell_type": "code",
   "execution_count": 13,
   "id": "eb44c14a",
   "metadata": {},
   "outputs": [],
   "source": [
    "a=[1 , 2 , 3]"
   ]
  },
  {
   "cell_type": "code",
   "execution_count": 14,
   "id": "b49732bd",
   "metadata": {},
   "outputs": [
    {
     "data": {
      "text/plain": [
       "1"
      ]
     },
     "execution_count": 14,
     "metadata": {},
     "output_type": "execute_result"
    }
   ],
   "source": [
    "a[0]"
   ]
  },
  {
   "cell_type": "code",
   "execution_count": 24,
   "id": "7ada72ee",
   "metadata": {},
   "outputs": [
    {
     "data": {
      "text/plain": [
       "6"
      ]
     },
     "execution_count": 24,
     "metadata": {},
     "output_type": "execute_result"
    }
   ],
   "source": [
    "a=[[3,4],[5,6]]\n",
    "a[1][1]"
   ]
  },
  {
   "cell_type": "code",
   "execution_count": null,
   "id": "2104e0c0",
   "metadata": {},
   "outputs": [],
   "source": []
  },
  {
   "cell_type": "code",
   "execution_count": 38,
   "id": "563c2469",
   "metadata": {},
   "outputs": [
    {
     "data": {
      "text/plain": [
       "array([[3, 4],\n",
       "       [5, 6]])"
      ]
     },
     "execution_count": 38,
     "metadata": {},
     "output_type": "execute_result"
    }
   ],
   "source": [
    "import numpy as np\n",
    "a_n=np.array(a)\n",
    "a_n"
   ]
  },
  {
   "cell_type": "code",
   "execution_count": 26,
   "id": "b67e7101",
   "metadata": {},
   "outputs": [
    {
     "data": {
      "text/plain": [
       "array([3, 4])"
      ]
     },
     "execution_count": 26,
     "metadata": {},
     "output_type": "execute_result"
    }
   ],
   "source": [
    "a_n[0,:]"
   ]
  },
  {
   "cell_type": "code",
   "execution_count": 27,
   "id": "d707fb82",
   "metadata": {},
   "outputs": [
    {
     "data": {
      "text/plain": [
       "array([5, 6])"
      ]
     },
     "execution_count": 27,
     "metadata": {},
     "output_type": "execute_result"
    }
   ],
   "source": [
    "a_n[1,:]"
   ]
  },
  {
   "cell_type": "code",
   "execution_count": 29,
   "id": "35601b0d",
   "metadata": {},
   "outputs": [
    {
     "data": {
      "text/plain": [
       "dtype('int32')"
      ]
     },
     "execution_count": 29,
     "metadata": {},
     "output_type": "execute_result"
    }
   ],
   "source": [
    "a_n.dtype"
   ]
  },
  {
   "cell_type": "code",
   "execution_count": 30,
   "id": "db13d36e",
   "metadata": {},
   "outputs": [
    {
     "data": {
      "text/plain": [
       "(8, 4)"
      ]
     },
     "execution_count": 30,
     "metadata": {},
     "output_type": "execute_result"
    }
   ],
   "source": [
    "a_n.strides"
   ]
  },
  {
   "cell_type": "code",
   "execution_count": 31,
   "id": "916e0885",
   "metadata": {},
   "outputs": [
    {
     "data": {
      "text/plain": [
       "array([[4, 5],\n",
       "       [6, 7]])"
      ]
     },
     "execution_count": 31,
     "metadata": {},
     "output_type": "execute_result"
    }
   ],
   "source": [
    "a_n+1"
   ]
  },
  {
   "cell_type": "code",
   "execution_count": 33,
   "id": "d7c7718d",
   "metadata": {},
   "outputs": [
    {
     "data": {
      "text/plain": [
       "(2, 2)"
      ]
     },
     "execution_count": 33,
     "metadata": {},
     "output_type": "execute_result"
    }
   ],
   "source": [
    "a_n.shape"
   ]
  },
  {
   "cell_type": "code",
   "execution_count": 36,
   "id": "fd4803f5",
   "metadata": {},
   "outputs": [
    {
     "data": {
      "text/plain": [
       "array([1])"
      ]
     },
     "execution_count": 36,
     "metadata": {},
     "output_type": "execute_result"
    }
   ],
   "source": [
    "b_n=np.array([1])\n",
    "b_n"
   ]
  },
  {
   "cell_type": "code",
   "execution_count": 37,
   "id": "6e10338a",
   "metadata": {},
   "outputs": [
    {
     "data": {
      "text/plain": [
       "(1,)"
      ]
     },
     "execution_count": 37,
     "metadata": {},
     "output_type": "execute_result"
    }
   ],
   "source": [
    "b_n.shape"
   ]
  },
  {
   "cell_type": "markdown",
   "id": "52963dfd",
   "metadata": {},
   "source": [
    "## Case study"
   ]
  },
  {
   "cell_type": "code",
   "execution_count": 40,
   "id": "f6a0f870",
   "metadata": {},
   "outputs": [
    {
     "data": {
      "text/plain": [
       "array([[  0., 100.,  78., 342.],\n",
       "       [  1.,  11.,  62., 191.],\n",
       "       [  2.,   8.,  85., 252.],\n",
       "       [  3.,  71.,  24., 307.],\n",
       "       [  4., 104.,  17., 229.],\n",
       "       [  5.,  18., 104., 246.],\n",
       "       [  6.,   8.,  76., 226.],\n",
       "       [  7.,  86.,  74., 288.],\n",
       "       [  8.,  12.,  60., 216.],\n",
       "       [  9.,  25.,  90., 304.],\n",
       "       [ 10.,  56.,   6., 272.],\n",
       "       [ 11.,  88.,  69., 302.],\n",
       "       [ 12., 147.,  65., 312.],\n",
       "       [ 13., 121., 146., 370.],\n",
       "       [ 15.,  99., 110., 362.]])"
      ]
     },
     "execution_count": 40,
     "metadata": {},
     "output_type": "execute_result"
    }
   ],
   "source": [
    "a=np.loadtxt(\"https://raw.githubusercontent.com/goradbj/MachineLearning/main/cric.tsv\",skiprows=1)\n",
    "a"
   ]
  },
  {
   "cell_type": "code",
   "execution_count": 42,
   "id": "26fb2ba8",
   "metadata": {},
   "outputs": [
    {
     "data": {
      "text/plain": [
       "array([100.,  11.,   8.,  71., 104.,  18.,   8.,  86.,  12.,  25.,  56.,\n",
       "        88., 147., 121.,  99.])"
      ]
     },
     "execution_count": 42,
     "metadata": {},
     "output_type": "execute_result"
    }
   ],
   "source": [
    "sachin_run=a[:,1]\n",
    "sachin_run"
   ]
  },
  {
   "cell_type": "code",
   "execution_count": 43,
   "id": "aa1705c5",
   "metadata": {},
   "outputs": [
    {
     "data": {
      "text/plain": [
       "63.6"
      ]
     },
     "execution_count": 43,
     "metadata": {},
     "output_type": "execute_result"
    }
   ],
   "source": [
    "np.mean(sachin_run)"
   ]
  },
  {
   "cell_type": "code",
   "execution_count": 44,
   "id": "edb1550c",
   "metadata": {},
   "outputs": [
    {
     "data": {
      "text/plain": [
       "array([ 78.,  62.,  85.,  24.,  17., 104.,  76.,  74.,  60.,  90.,   6.,\n",
       "        69.,  65., 146., 110.])"
      ]
     },
     "execution_count": 44,
     "metadata": {},
     "output_type": "execute_result"
    }
   ],
   "source": [
    "Dravid_run = a[:,2]\n",
    "Dravid_run"
   ]
  },
  {
   "cell_type": "code",
   "execution_count": 45,
   "id": "302db7ac",
   "metadata": {},
   "outputs": [
    {
     "data": {
      "text/plain": [
       "71.06666666666666"
      ]
     },
     "execution_count": 45,
     "metadata": {},
     "output_type": "execute_result"
    }
   ],
   "source": [
    "np.mean(Dravid_run)"
   ]
  },
  {
   "cell_type": "code",
   "execution_count": 46,
   "id": "088c2035",
   "metadata": {},
   "outputs": [
    {
     "data": {
      "text/plain": [
       "array([342., 191., 252., 307., 229., 246., 226., 288., 216., 304., 272.,\n",
       "       302., 312., 370., 362.])"
      ]
     },
     "execution_count": 46,
     "metadata": {},
     "output_type": "execute_result"
    }
   ],
   "source": [
    "india_runs =a[:,3]\n",
    "india_runs"
   ]
  },
  {
   "cell_type": "code",
   "execution_count": 47,
   "id": "c593c963",
   "metadata": {},
   "outputs": [
    {
     "data": {
      "text/plain": [
       "281.26666666666665"
      ]
     },
     "execution_count": 47,
     "metadata": {},
     "output_type": "execute_result"
    }
   ],
   "source": [
    "np.mean(india_runs)"
   ]
  },
  {
   "cell_type": "code",
   "execution_count": 48,
   "id": "fa6df117",
   "metadata": {},
   "outputs": [
    {
     "data": {
      "text/plain": [
       "array([[1.        , 0.70460106],\n",
       "       [0.70460106, 1.        ]])"
      ]
     },
     "execution_count": 48,
     "metadata": {},
     "output_type": "execute_result"
    }
   ],
   "source": [
    "np.corrcoef(sachin_run,india_runs)"
   ]
  },
  {
   "cell_type": "code",
   "execution_count": 49,
   "id": "9b1e78f8",
   "metadata": {},
   "outputs": [
    {
     "data": {
      "text/plain": [
       "array([[1.        , 0.44853003],\n",
       "       [0.44853003, 1.        ]])"
      ]
     },
     "execution_count": 49,
     "metadata": {},
     "output_type": "execute_result"
    }
   ],
   "source": [
    "np.corrcoef(Dravid_run,india_runs)"
   ]
  },
  {
   "cell_type": "code",
   "execution_count": 50,
   "id": "71b50c3c",
   "metadata": {},
   "outputs": [
    {
     "data": {
      "text/plain": [
       "array([[1.        , 0.04899219],\n",
       "       [0.04899219, 1.        ]])"
      ]
     },
     "execution_count": 50,
     "metadata": {},
     "output_type": "execute_result"
    }
   ],
   "source": [
    "np.corrcoef(Dravid_run,sachin_run)"
   ]
  },
  {
   "cell_type": "markdown",
   "id": "ed4a6ae2",
   "metadata": {},
   "source": [
    "## matplotlib"
   ]
  },
  {
   "cell_type": "code",
   "execution_count": 55,
   "id": "0b112454",
   "metadata": {},
   "outputs": [],
   "source": [
    "import matplotlib.pyplot as plt"
   ]
  },
  {
   "cell_type": "code",
   "execution_count": 56,
   "id": "9658cecd",
   "metadata": {},
   "outputs": [
    {
     "data": {
      "image/png": "[encoded data removed]",
      "text/plain": [
       "<Figure size 432x288 with 1 Axes>"
      ]
     },
     "metadata": {
      "needs_background": "light"
     },
     "output_type": "display_data"
    }
   ],
   "source": [
    "x =[1,2,3]\n",
    "y =[3,4,5]\n",
    "plt.plot(x,y)\n",
    "plt.show()"
   ]
  },
  {
   "cell_type": "code",
   "execution_count": 58,
   "id": "d5f39b4e",
   "metadata": {},
   "outputs": [
    {
     "data": {
      "image/png": "[encoded data removed]",
      "text/plain": [
       "<Figure size 432x288 with 1 Axes>"
      ]
     },
     "metadata": {
      "needs_background": "light"
     },
     "output_type": "display_data"
    }
   ],
   "source": [
    "plt.plot(y)\n",
    "plt.show()"
   ]
  },
  {
   "cell_type": "code",
   "execution_count": 59,
   "id": "7b2232d7",
   "metadata": {},
   "outputs": [],
   "source": [
    "x= [1,3,7,9]\n",
    "y = [24,15,78,23]"
   ]
  },
  {
   "cell_type": "code",
   "execution_count": 61,
   "id": "e9120607",
   "metadata": {},
   "outputs": [
    {
     "data": {
      "image/png": "[encoded data removed]",
      "text/plain": [
       "<Figure size 432x288 with 1 Axes>"
      ]
     },
     "metadata": {
      "needs_background": "light"
     },
     "output_type": "display_data"
    }
   ],
   "source": [
    "plt.plot(x,y)\n",
    "plt.show()"
   ]
  },
  {
   "cell_type": "code",
   "execution_count": 62,
   "id": "6214bc17",
   "metadata": {},
   "outputs": [
    {
     "data": {
      "image/png": "[encoded data removed]",
      "text/plain": [
       "<Figure size 432x288 with 1 Axes>"
      ]
     },
     "metadata": {
      "needs_background": "light"
     },
     "output_type": "display_data"
    }
   ],
   "source": [
    "plt.plot(y)\n",
    "plt.show()"
   ]
  },
  {
   "cell_type": "code",
   "execution_count": 63,
   "id": "1f2d695b",
   "metadata": {},
   "outputs": [
    {
     "data": {
      "image/png": "[encoded data removed]",
      "text/plain": [
       "<Figure size 432x288 with 1 Axes>"
      ]
     },
     "metadata": {
      "needs_background": "light"
     },
     "output_type": "display_data"
    }
   ],
   "source": [
    "plt.plot(x)\n",
    "plt.show()"
   ]
  },
  {
   "cell_type": "code",
   "execution_count": 74,
   "id": "c65c533f",
   "metadata": {},
   "outputs": [
    {
     "data": {
      "image/png": "[encoded data removed]",
      "text/plain": [
       "<Figure size 432x288 with 1 Axes>"
      ]
     },
     "metadata": {
      "needs_background": "light"
     },
     "output_type": "display_data"
    }
   ],
   "source": [
    "plt.plot(x,y,marker=\"*\" ,color=\"y\", linestyle=\"dotted\")\n",
    "plt.show()"
   ]
  },
  {
   "cell_type": "markdown",
   "id": "4c2ddc44",
   "metadata": {},
   "source": [
    "## Lines plots"
   ]
  },
  {
   "cell_type": "code",
   "execution_count": 75,
   "id": "e5b6bb75",
   "metadata": {},
   "outputs": [],
   "source": [
    "india_runs = [920,450,670,800,500,430,389,345,678,123]\n",
    "pak_runs =   [500,345,789,234,874,345,678,421,255,100]"
   ]
  },
  {
   "cell_type": "code",
   "execution_count": 76,
   "id": "20bb06d8",
   "metadata": {},
   "outputs": [],
   "source": [
    "india_runs = np.array(india_runs)\n",
    "pak_runs = np.array(pak_runs)"
   ]
  },
  {
   "cell_type": "code",
   "execution_count": 77,
   "id": "cea3b28f",
   "metadata": {},
   "outputs": [
    {
     "data": {
      "text/plain": [
       "10"
      ]
     },
     "execution_count": 77,
     "metadata": {},
     "output_type": "execute_result"
    }
   ],
   "source": [
    "india_runs.size"
   ]
  },
  {
   "cell_type": "code",
   "execution_count": 79,
   "id": "fa76b4f2",
   "metadata": {},
   "outputs": [
    {
     "data": {
      "text/plain": [
       "10"
      ]
     },
     "execution_count": 79,
     "metadata": {},
     "output_type": "execute_result"
    }
   ],
   "source": [
    "pak_runs.size"
   ]
  },
  {
   "cell_type": "code",
   "execution_count": 80,
   "id": "f607c625",
   "metadata": {},
   "outputs": [
    {
     "data": {
      "text/plain": [
       "array([0, 1, 2, 3, 4, 5, 6, 7, 8, 9])"
      ]
     },
     "execution_count": 80,
     "metadata": {},
     "output_type": "execute_result"
    }
   ],
   "source": [
    "matches = np.arange(10)\n",
    "matches"
   ]
  },
  {
   "cell_type": "code",
   "execution_count": 87,
   "id": "be5ec1f8",
   "metadata": {},
   "outputs": [
    {
     "data": {
      "image/png": "[encoded data removed]",
      "text/plain": [
       "<Figure size 432x288 with 1 Axes>"
      ]
     },
     "metadata": {
      "needs_background": "light"
     },
     "output_type": "display_data"
    }
   ],
   "source": [
    "plt.plot(matches,india_runs,color=\"c\")\n",
    "plt.plot(matches,pak_runs,color=\"b\")\n",
    "plt.show()"
   ]
  },
  {
   "cell_type": "code",
   "execution_count": 91,
   "id": "0f3e8c79",
   "metadata": {},
   "outputs": [
    {
     "data": {
      "image/png": "[encoded data removed]",
      "text/plain": [
       "<Figure size 432x288 with 1 Axes>"
      ]
     },
     "metadata": {
      "needs_background": "light"
     },
     "output_type": "display_data"
    }
   ],
   "source": [
    "generics =[\"Horror\",\"Comedy\",\"Drama\",\"Scifi\",\"Thriller\",\"Suspunse\"]\n",
    "movies =[152,250,423,221,100,213]\n",
    "plt.bar(generics,movies,color=\"y\")\n",
    "plt.show()"
   ]
  },
  {
   "cell_type": "code",
   "execution_count": 93,
   "id": "8ddaf70f",
   "metadata": {},
   "outputs": [
    {
     "data": {
      "image/png": "[encoded data removed]",
      "text/plain": [
       "<Figure size 432x288 with 1 Axes>"
      ]
     },
     "metadata": {
      "needs_background": "light"
     },
     "output_type": "display_data"
    }
   ],
   "source": [
    "x= [1,3,7,9]\n",
    "y = [24,15,78,23]\n",
    "plt.scatter(x,y)\n",
    "plt.show()"
   ]
  },
  {
   "cell_type": "code",
   "execution_count": 94,
   "id": "735f2d87",
   "metadata": {},
   "outputs": [
    {
     "data": {
      "image/png": "[encoded data removed]",
      "text/plain": [
       "<Figure size 432x288 with 1 Axes>"
      ]
     },
     "metadata": {
      "needs_background": "light"
     },
     "output_type": "display_data"
    }
   ],
   "source": [
    "plt.plot(x,y)\n",
    "plt.show()"
   ]
  },
  {
   "cell_type": "code",
   "execution_count": 95,
   "id": "a03967d9",
   "metadata": {},
   "outputs": [
    {
     "data": {
      "image/png": "[encoded data removed]",
      "text/plain": [
       "<Figure size 432x288 with 1 Axes>"
      ]
     },
     "metadata": {
      "needs_background": "light"
     },
     "output_type": "display_data"
    }
   ],
   "source": [
    "plt.plot(x,y)\n",
    "plt.xlabel(\"prep time\")\n",
    "plt.ylabel(\"Exam marks\")\n",
    "plt.title(\"student info\")\n",
    "plt.show()"
   ]
  },
  {
   "cell_type": "code",
   "execution_count": 98,
   "id": "1e2b8ec1",
   "metadata": {},
   "outputs": [
    {
     "data": {
      "image/png": "[encoded data removed]",
      "text/plain": [
       "<Figure size 432x288 with 1 Axes>"
      ]
     },
     "metadata": {
      "needs_background": "light"
     },
     "output_type": "display_data"
    }
   ],
   "source": [
    "plt.plot(matches,india_runs,color=\"c\")\n",
    "plt.plot(matches,pak_runs,color=\"b\")\n",
    "# plt.legend([\"india\",\"pak\"],loc=\"upper left\")\n",
    "plt.legend([\"india\",\"pak\"],loc=\"lower left\")\n",
    "plt.show()"
   ]
  },
  {
   "cell_type": "code",
   "execution_count": 99,
   "id": "f72d0992",
   "metadata": {},
   "outputs": [],
   "source": [
    "from numpy import random"
   ]
  },
  {
   "cell_type": "code",
   "execution_count": 110,
   "id": "b7d15286",
   "metadata": {},
   "outputs": [
    {
     "data": {
      "text/plain": [
       "array([5, 5, 2, ..., 3, 4, 1])"
      ]
     },
     "execution_count": 110,
     "metadata": {},
     "output_type": "execute_result"
    }
   ],
   "source": [
    "a = random.randint(1,7,size=(2000000,))\n",
    "a"
   ]
  },
  {
   "cell_type": "code",
   "execution_count": 111,
   "id": "cf7151c5",
   "metadata": {},
   "outputs": [
    {
     "data": {
      "image/png": "[encoded data removed]",
      "text/plain": [
       "<Figure size 432x288 with 1 Axes>"
      ]
     },
     "metadata": {
      "needs_background": "light"
     },
     "output_type": "display_data"
    }
   ],
   "source": [
    "plt.hist(a)\n",
    "plt.show()"
   ]
  },
  {
   "cell_type": "code",
   "execution_count": 112,
   "id": "89b57b12",
   "metadata": {},
   "outputs": [
    {
     "data": {
      "text/plain": [
       "0.8939966636005579"
      ]
     },
     "execution_count": 112,
     "metadata": {},
     "output_type": "execute_result"
    }
   ],
   "source": [
    "theta1 = 90\n",
    "np.sin(90)"
   ]
  },
  {
   "cell_type": "code",
   "execution_count": 115,
   "id": "19766dd1",
   "metadata": {},
   "outputs": [
    {
     "data": {
      "text/plain": [
       "1.0"
      ]
     },
     "execution_count": 115,
     "metadata": {},
     "output_type": "execute_result"
    }
   ],
   "source": [
    "theta1 = 90\n",
    "a= np.deg2rad(theta1)\n",
    "np.sin(a)"
   ]
  },
  {
   "cell_type": "code",
   "execution_count": 119,
   "id": "ee2f96b5",
   "metadata": {},
   "outputs": [
    {
     "data": {
      "image/png": "[encoded data removed]",
      "text/plain": [
       "<Figure size 432x288 with 1 Axes>"
      ]
     },
     "metadata": {
      "needs_background": "light"
     },
     "output_type": "display_data"
    }
   ],
   "source": [
    "theta1 =np.arange(360)\n",
    "theta1_r = np.deg2rad(theta1)\n",
    "sintheta =np.sin(theta1_r)\n",
    "plt.plot(theta1,sintheta)\n",
    "plt.xlabel(\"X-axis\")\n",
    "plt.ylabel(\"Y-axis\")\n",
    "plt.title(\"sin()\")\n",
    "plt.show()"
   ]
  },
  {
   "cell_type": "code",
   "execution_count": 123,
   "id": "4f45f64a",
   "metadata": {},
   "outputs": [
    {
     "data": {
      "text/plain": [
       "-0.4480736161291701"
      ]
     },
     "execution_count": 123,
     "metadata": {},
     "output_type": "execute_result"
    }
   ],
   "source": [
    "theta2 = 90\n",
    "np.cos(90)"
   ]
  },
  {
   "cell_type": "code",
   "execution_count": 125,
   "id": "522f6226",
   "metadata": {},
   "outputs": [
    {
     "data": {
      "text/plain": [
       "array([ 1.00000000e+00,  9.99847695e-01,  9.99390827e-01,  9.98629535e-01,\n",
       "        9.97564050e-01,  9.96194698e-01,  9.94521895e-01,  9.92546152e-01,\n",
       "        9.90268069e-01,  9.87688341e-01,  9.84807753e-01,  9.81627183e-01,\n",
       "        9.78147601e-01,  9.74370065e-01,  9.70295726e-01,  9.65925826e-01,\n",
       "        9.61261696e-01,  9.56304756e-01,  9.51056516e-01,  9.45518576e-01,\n",
       "        9.39692621e-01,  9.33580426e-01,  9.27183855e-01,  9.20504853e-01,\n",
       "        9.13545458e-01,  9.06307787e-01,  8.98794046e-01,  8.91006524e-01,\n",
       "        8.82947593e-01,  8.74619707e-01,  8.66025404e-01,  8.57167301e-01,\n",
       "        8.48048096e-01,  8.38670568e-01,  8.29037573e-01,  8.19152044e-01,\n",
       "        8.09016994e-01,  7.98635510e-01,  7.88010754e-01,  7.77145961e-01,\n",
       "        7.66044443e-01,  7.54709580e-01,  7.43144825e-01,  7.31353702e-01,\n",
       "        7.19339800e-01,  7.07106781e-01,  6.94658370e-01,  6.81998360e-01,\n",
       "        6.69130606e-01,  6.56059029e-01,  6.42787610e-01,  6.29320391e-01,\n",
       "        6.15661475e-01,  6.01815023e-01,  5.87785252e-01,  5.73576436e-01,\n",
       "        5.59192903e-01,  5.44639035e-01,  5.29919264e-01,  5.15038075e-01,\n",
       "        5.00000000e-01,  4.84809620e-01,  4.69471563e-01,  4.53990500e-01,\n",
       "        4.38371147e-01,  4.22618262e-01,  4.06736643e-01,  3.90731128e-01,\n",
       "        3.74606593e-01,  3.58367950e-01,  3.42020143e-01,  3.25568154e-01,\n",
       "        3.09016994e-01,  2.92371705e-01,  2.75637356e-01,  2.58819045e-01,\n",
       "        2.41921896e-01,  2.24951054e-01,  2.07911691e-01,  1.90808995e-01,\n",
       "        1.73648178e-01,  1.56434465e-01,  1.39173101e-01,  1.21869343e-01,\n",
       "        1.04528463e-01,  8.71557427e-02,  6.97564737e-02,  5.23359562e-02,\n",
       "        3.48994967e-02,  1.74524064e-02,  6.12323400e-17, -1.74524064e-02,\n",
       "       -3.48994967e-02, -5.23359562e-02, -6.97564737e-02, -8.71557427e-02,\n",
       "       -1.04528463e-01, -1.21869343e-01, -1.39173101e-01, -1.56434465e-01,\n",
       "       -1.73648178e-01, -1.90808995e-01, -2.07911691e-01, -2.24951054e-01,\n",
       "       -2.41921896e-01, -2.58819045e-01, -2.75637356e-01, -2.92371705e-01,\n",
       "       -3.09016994e-01, -3.25568154e-01, -3.42020143e-01, -3.58367950e-01,\n",
       "       -3.74606593e-01, -3.90731128e-01, -4.06736643e-01, -4.22618262e-01,\n",
       "       -4.38371147e-01, -4.53990500e-01, -4.69471563e-01, -4.84809620e-01,\n",
       "       -5.00000000e-01, -5.15038075e-01, -5.29919264e-01, -5.44639035e-01,\n",
       "       -5.59192903e-01, -5.73576436e-01, -5.87785252e-01, -6.01815023e-01,\n",
       "       -6.15661475e-01, -6.29320391e-01, -6.42787610e-01, -6.56059029e-01,\n",
       "       -6.69130606e-01, -6.81998360e-01, -6.94658370e-01, -7.07106781e-01,\n",
       "       -7.19339800e-01, -7.31353702e-01, -7.43144825e-01, -7.54709580e-01,\n",
       "       -7.66044443e-01, -7.77145961e-01, -7.88010754e-01, -7.98635510e-01,\n",
       "       -8.09016994e-01, -8.19152044e-01, -8.29037573e-01, -8.38670568e-01,\n",
       "       -8.48048096e-01, -8.57167301e-01, -8.66025404e-01, -8.74619707e-01,\n",
       "       -8.82947593e-01, -8.91006524e-01, -8.98794046e-01, -9.06307787e-01,\n",
       "       -9.13545458e-01, -9.20504853e-01, -9.27183855e-01, -9.33580426e-01,\n",
       "       -9.39692621e-01, -9.45518576e-01, -9.51056516e-01, -9.56304756e-01,\n",
       "       -9.61261696e-01, -9.65925826e-01, -9.70295726e-01, -9.74370065e-01,\n",
       "       -9.78147601e-01, -9.81627183e-01, -9.84807753e-01, -9.87688341e-01,\n",
       "       -9.90268069e-01, -9.92546152e-01, -9.94521895e-01, -9.96194698e-01,\n",
       "       -9.97564050e-01, -9.98629535e-01, -9.99390827e-01, -9.99847695e-01,\n",
       "       -1.00000000e+00, -9.99847695e-01, -9.99390827e-01, -9.98629535e-01,\n",
       "       -9.97564050e-01, -9.96194698e-01, -9.94521895e-01, -9.92546152e-01,\n",
       "       -9.90268069e-01, -9.87688341e-01, -9.84807753e-01, -9.81627183e-01,\n",
       "       -9.78147601e-01, -9.74370065e-01, -9.70295726e-01, -9.65925826e-01,\n",
       "       -9.61261696e-01, -9.56304756e-01, -9.51056516e-01, -9.45518576e-01,\n",
       "       -9.39692621e-01, -9.33580426e-01, -9.27183855e-01, -9.20504853e-01,\n",
       "       -9.13545458e-01, -9.06307787e-01, -8.98794046e-01, -8.91006524e-01,\n",
       "       -8.82947593e-01, -8.74619707e-01, -8.66025404e-01, -8.57167301e-01,\n",
       "       -8.48048096e-01, -8.38670568e-01, -8.29037573e-01, -8.19152044e-01,\n",
       "       -8.09016994e-01, -7.98635510e-01, -7.88010754e-01, -7.77145961e-01,\n",
       "       -7.66044443e-01, -7.54709580e-01, -7.43144825e-01, -7.31353702e-01,\n",
       "       -7.19339800e-01, -7.07106781e-01, -6.94658370e-01, -6.81998360e-01,\n",
       "       -6.69130606e-01, -6.56059029e-01, -6.42787610e-01, -6.29320391e-01,\n",
       "       -6.15661475e-01, -6.01815023e-01, -5.87785252e-01, -5.73576436e-01,\n",
       "       -5.59192903e-01, -5.44639035e-01, -5.29919264e-01, -5.15038075e-01,\n",
       "       -5.00000000e-01, -4.84809620e-01, -4.69471563e-01, -4.53990500e-01,\n",
       "       -4.38371147e-01, -4.22618262e-01, -4.06736643e-01, -3.90731128e-01,\n",
       "       -3.74606593e-01, -3.58367950e-01, -3.42020143e-01, -3.25568154e-01,\n",
       "       -3.09016994e-01, -2.92371705e-01, -2.75637356e-01, -2.58819045e-01,\n",
       "       -2.41921896e-01, -2.24951054e-01, -2.07911691e-01, -1.90808995e-01,\n",
       "       -1.73648178e-01, -1.56434465e-01, -1.39173101e-01, -1.21869343e-01,\n",
       "       -1.04528463e-01, -8.71557427e-02, -6.97564737e-02, -5.23359562e-02,\n",
       "       -3.48994967e-02, -1.74524064e-02, -1.83697020e-16,  1.74524064e-02,\n",
       "        3.48994967e-02,  5.23359562e-02,  6.97564737e-02,  8.71557427e-02,\n",
       "        1.04528463e-01,  1.21869343e-01,  1.39173101e-01,  1.56434465e-01,\n",
       "        1.73648178e-01,  1.90808995e-01,  2.07911691e-01,  2.24951054e-01,\n",
       "        2.41921896e-01,  2.58819045e-01,  2.75637356e-01,  2.92371705e-01,\n",
       "        3.09016994e-01,  3.25568154e-01,  3.42020143e-01,  3.58367950e-01,\n",
       "        3.74606593e-01,  3.90731128e-01,  4.06736643e-01,  4.22618262e-01,\n",
       "        4.38371147e-01,  4.53990500e-01,  4.69471563e-01,  4.84809620e-01,\n",
       "        5.00000000e-01,  5.15038075e-01,  5.29919264e-01,  5.44639035e-01,\n",
       "        5.59192903e-01,  5.73576436e-01,  5.87785252e-01,  6.01815023e-01,\n",
       "        6.15661475e-01,  6.29320391e-01,  6.42787610e-01,  6.56059029e-01,\n",
       "        6.69130606e-01,  6.81998360e-01,  6.94658370e-01,  7.07106781e-01,\n",
       "        7.19339800e-01,  7.31353702e-01,  7.43144825e-01,  7.54709580e-01,\n",
       "        7.66044443e-01,  7.77145961e-01,  7.88010754e-01,  7.98635510e-01,\n",
       "        8.09016994e-01,  8.19152044e-01,  8.29037573e-01,  8.38670568e-01,\n",
       "        8.48048096e-01,  8.57167301e-01,  8.66025404e-01,  8.74619707e-01,\n",
       "        8.82947593e-01,  8.91006524e-01,  8.98794046e-01,  9.06307787e-01,\n",
       "        9.13545458e-01,  9.20504853e-01,  9.27183855e-01,  9.33580426e-01,\n",
       "        9.39692621e-01,  9.45518576e-01,  9.51056516e-01,  9.56304756e-01,\n",
       "        9.61261696e-01,  9.65925826e-01,  9.70295726e-01,  9.74370065e-01,\n",
       "        9.78147601e-01,  9.81627183e-01,  9.84807753e-01,  9.87688341e-01,\n",
       "        9.90268069e-01,  9.92546152e-01,  9.94521895e-01,  9.96194698e-01,\n",
       "        9.97564050e-01,  9.98629535e-01,  9.99390827e-01,  9.99847695e-01])"
      ]
     },
     "execution_count": 125,
     "metadata": {},
     "output_type": "execute_result"
    }
   ],
   "source": [
    "theta2 = 90\n",
    "a= np.deg2rad(theta1)\n",
    "np.cos(a)"
   ]
  },
  {
   "cell_type": "code",
   "execution_count": 126,
   "id": "a7119063",
   "metadata": {},
   "outputs": [
    {
     "data": {
      "image/png": "[encoded data removed]",
      "text/plain": [
       "<Figure size 432x288 with 1 Axes>"
      ]
     },
     "metadata": {
      "needs_background": "light"
     },
     "output_type": "display_data"
    }
   ],
   "source": [
    "theta2 =np.arange(360)\n",
    "theta2_r = np.deg2rad(theta1)\n",
    "costheta =np.cos(theta2_r)\n",
    "plt.plot(theta2,costheta)\n",
    "plt.xlabel(\"X-axis\")\n",
    "plt.ylabel(\"Y-axis\")\n",
    "plt.title(\"cos()\")\n",
    "plt.show()"
   ]
  },
  {
   "cell_type": "code",
   "execution_count": 128,
   "id": "b1b443f3",
   "metadata": {},
   "outputs": [
    {
     "data": {
      "image/png": "[encoded data removed]",
      "text/plain": [
       "<Figure size 432x288 with 1 Axes>"
      ]
     },
     "metadata": {
      "needs_background": "light"
     },
     "output_type": "display_data"
    }
   ],
   "source": [
    "theta1 =np.arange(360)\n",
    "theta1_r = np.deg2rad(theta1)\n",
    "sintheta =np.sin(theta1_r)\n",
    "plt.plot(theta1,sintheta)\n",
    "\n",
    "theta2 =np.arange(360)\n",
    "theta2_r = np.deg2rad(theta1)\n",
    "costheta =np.cos(theta2_r)\n",
    "plt.plot(theta2,costheta)\n",
    "\n",
    "plt.legend([\"X-axis\",\"Y-axis\"],loc=\"lower left\")\n",
    "\n",
    "plt.xlabel(\"X-axis\")\n",
    "plt.ylabel(\"Y-axis\")\n",
    "plt.title(\"sin() cos()\")\n",
    "plt.show()"
   ]
  },
  {
   "cell_type": "code",
   "execution_count": 138,
   "id": "1eadd0da",
   "metadata": {},
   "outputs": [
    {
     "data": {
      "image/png": "[encoded data removed]",
      "text/plain": [
       "<Figure size 1440x720 with 1 Axes>"
      ]
     },
     "metadata": {
      "needs_background": "light"
     },
     "output_type": "display_data"
    }
   ],
   "source": [
    "theta1 =np.arange(360)\n",
    "theta1_r = np.deg2rad(theta1)\n",
    "theta2 =np.arange(360)\n",
    "theta2_r = np.deg2rad(theta1)\n",
    "sintheta =np.sin(theta1_r)\n",
    "\n",
    "plt.figure(figsize=(20,10))\n",
    "plt.plot(theta1,sintheta)\n",
    "costheta =np.cos(theta2_r)\n",
    "\n",
    "plt.plot(theta2,costheta)\n",
    "\n",
    "plt.legend([\"X-axis\",\"Y-axis\"],loc=\"lower left\")\n",
    "\n",
    "plt.xlabel(\"X-axis\")\n",
    "plt.ylabel(\"Y-axis\")\n",
    "plt.title(\"sin() cos()\")\n",
    "\n",
    "plt.annotate(\"max\",xy=(90,1))\n",
    "\n",
    "plt.show()"
   ]
  },
  {
   "cell_type": "code",
   "execution_count": null,
   "id": "7d448087",
   "metadata": {},
   "outputs": [],
   "source": []
  }
 ],
 "metadata": {
  "kernelspec": {
   "display_name": "Python 3 (ipykernel)",
   "language": "python",
   "name": "python3"
  },
  "language_info": {
   "codemirror_mode": {
    "name": "ipython",
    "version": 3
   },
   "file_extension": ".py",
   "mimetype": "text/x-python",
   "name": "python",
   "nbconvert_exporter": "python",
   "pygments_lexer": "ipython3",
   "version": "3.9.12"
  }
 },
 "nbformat": 4,
 "nbformat_minor": 5
}
